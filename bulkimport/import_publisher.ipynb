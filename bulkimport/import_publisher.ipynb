{
 "cells": [
  {
   "cell_type": "code",
   "execution_count": 36,
   "metadata": {
    "collapsed": true
   },
   "outputs": [],
   "source": [
    "###\n",
    "### SORT ACCORDING TO COLUMN\n",
    "###\n",
    "\n",
    "import sys, csv ,operator\n",
    "data = csv.reader(open('import_data/publishers.csv'))\n",
    "sortedlist = sorted(data, key=operator.itemgetter(1))    # 1 specifies according to first column we want to sort\n",
    "#now write the sorte result into new CSV file\n",
    "with open(\"import_data/publishers_sorted.csv\", \"w\") as f:\n",
    "  fileWriter = csv.writer(f, delimiter=',')\n",
    "  for row in sortedlist:\n",
    "      fileWriter.writerow(row)\n",
    "\n"
   ]
  },
  {
   "cell_type": "code",
   "execution_count": 42,
   "metadata": {
    "collapsed": true
   },
   "outputs": [],
   "source": [
    "###\n",
    "### DEDUPLICATE DATA (check manually at the end)\n",
    "###\n",
    "\n",
    "reader=csv.reader(open('import_data/publishers_sorted.csv', 'r'), delimiter=',')\n",
    "writer=csv.writer(open('import_data/publishers_sorted_distinct.csv', 'w'), delimiter=',')\n",
    "\n",
    "entries = set()\n",
    "\n",
    "for row in reader:\n",
    "   key = (row[0], row[1]) # instead of just the last name\n",
    "\n",
    "   if key not in entries:\n",
    "      writer.writerow(row)\n",
    "      entries.add(key)"
   ]
  },
  {
   "cell_type": "code",
   "execution_count": 42,
   "metadata": {},
   "outputs": [],
   "source": [
    "###\n",
    "### READ THE CSV\n",
    "###\n",
    "\n",
    "import csv\n",
    "\n",
    "f = open('import_data/publishers_sorted_distinct_manuallychecked.csv')\n",
    "csv_f = csv.reader(f)   \n",
    "data = []\n",
    "\n",
    "for row in csv_f: \n",
    "   data.append(row)\n",
    "f.close()\n",
    "\n",
    "## TEST COSA C'È NELLE LINEE SPECIFICATE\n",
    "## print(data[1:3])\n",
    "\n",
    "    "
   ]
  },
  {
   "cell_type": "code",
   "execution_count": 46,
   "metadata": {},
   "outputs": [
    {
     "data": {
      "text/plain": [
       "<function TextIOWrapper.close>"
      ]
     },
     "execution_count": 46,
     "metadata": {},
     "output_type": "execute_result"
    }
   ],
   "source": [
    "###\n",
    "### READ THE CSV\n",
    "###\n",
    "\n",
    "import csv\n",
    "\n",
    "f = open('import_data/publishers_sorted_distinct_manuallychecked.csv')\n",
    "o = open('xml/publishers.xml', 'w')\n",
    "\n",
    "csv_f = csv.reader(f)   \n",
    "data = []\n",
    "\n",
    "for row in csv_f: \n",
    "   data.append(row)\n",
    "f.close()\n",
    "\n",
    "## test cosa c'è nelle linee specificate\n",
    "## print(data[1:3])\n",
    "\n",
    "\n",
    "\n",
    "###\n",
    "### TRANSFORM INTO XML FOR BULK IMPORT INTO KNORA\n",
    "###\n",
    "\n",
    "\n",
    "## FUNCTION THAT CREATES ITEM FROM CSV\n",
    "def convert_row(row):\n",
    "    ## create id with first or first and last word of the publisher's name\n",
    "    word_list = row[1].replace(\"'\", ' ') ## replace accent with space\n",
    "    word_list = word_list.replace(\",\", '').split()  ## replace comma with nothing and split words\n",
    "    if (word_list[0] == \"La\") or (word_list[0] == \"L\") or (word_list[0] == \"Les\") or (word_list[0] == \"Le\"): ## if the first word is ...\n",
    "        if (word_list[1] == word_list[-1]): ## if the second and the last words are equal\n",
    "            first_last_word = word_list[1]  ## take the second\n",
    "        else:\n",
    "            first_last_word = word_list[1]+'_'+word_list[-1]  ## otherwise take the second and the last\n",
    "    else:    ## if the first word is NOT ...\n",
    "        if (word_list[0] == word_list[-1]): ## if the first and the last words are equal\n",
    "            first_last_word = word_list[0]  ## take the first\n",
    "        else:\n",
    "            first_last_word = word_list[0]+'_'+word_list[-1]   ## otherwise take the first and the last\n",
    "    \n",
    "    ## create item from csv\n",
    "    return \"\"\"\n",
    "    <p0112-roud-oeuvres:Publisher id=\"edi_%s\">\n",
    "        <knoraXmlImport:label>edi_%s</knoraXmlImport:label>\n",
    "        <p0112-roud-oeuvres:publisherHasLocation knoraType=\"richtext_value\">%s</p0112-roud-oeuvres:publisherHasLocation>\n",
    "        <p0112-roud-oeuvres:publisherHasName knoraType=\"richtext_value\">%s</p0112-roud-oeuvres:publisherHasName>\n",
    "    </p0112-roud-oeuvres:Publisher>\n",
    "    \"\"\" % (first_last_word, row[1], row[0], row[1])\n",
    "\n",
    "\n",
    "## WRITE DECLARATIONS AND BEGINNING OF THE XML FILE -adding line breaks for readibility-\n",
    "o.write('<?xml version=\"1.0\" encoding=\"UTF-8\"?>'+'\\n'+'<knoraXmlImport:resources xmlns:xsi=\"http://www.w3.org/2001/XMLSchema-instance\"'+'\\n'+'xsi:schemaLocation=\"http://api.knora.org/ontology/knoraXmlImport/v1# ../p0112-roud-oeuvres-xml-schemas/p0112-roud-oeuvres.xsd\" '+'\\n'+' xmlns=\"http://api.knora.org/ontology/0112/roud-oeuvres/xml-import/v1#\" '+'\\n'+' xmlns:knoraXmlImport=\"http://api.knora.org/ontology/knoraXmlImport/v1#\" '+'\\n'+' xmlns:p0112-roud-oeuvres=\"http://api.knora.org/ontology/0112/roud-oeuvres/xml-import/v1#\">'+'\\n\\n')\n",
    "\n",
    "## WRITE ITEMS TO FILE, LOOP ON THE FUNCTION convert_row\n",
    "o.write('\\n'.join([convert_row(row) for row in data[1:]]))\n",
    "\n",
    "## WRITE END OF THE XML FILE\n",
    "o.write('</knoraXmlImport:resources>')\n",
    "\n",
    "o.close"
   ]
  },
  {
   "cell_type": "code",
   "execution_count": null,
   "metadata": {
    "collapsed": true
   },
   "outputs": [],
   "source": []
  },
  {
   "cell_type": "code",
   "execution_count": null,
   "metadata": {
    "collapsed": true
   },
   "outputs": [],
   "source": []
  }
 ],
 "metadata": {
  "kernelspec": {
   "display_name": "Python 3",
   "language": "python",
   "name": "python3"
  },
  "language_info": {
   "codemirror_mode": {
    "name": "ipython",
    "version": 3
   },
   "file_extension": ".py",
   "mimetype": "text/x-python",
   "name": "python",
   "nbconvert_exporter": "python",
   "pygments_lexer": "ipython3",
   "version": "3.6.3"
  }
 },
 "nbformat": 4,
 "nbformat_minor": 2
}
