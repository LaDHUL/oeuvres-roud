{
 "cells": [
  {
   "cell_type": "code",
   "execution_count": 36,
   "metadata": {
    "collapsed": true
   },
   "outputs": [],
   "source": [
    "###\n",
    "### SORT ACCORDING TO COLUMN\n",
    "###\n",
    "\n",
    "import sys, csv ,operator\n",
    "data = csv.reader(open('import_data/publishers.csv'))\n",
    "sortedlist = sorted(data, key=operator.itemgetter(1))    # 1 specifies according to first column we want to sort\n",
    "#now write the sorte result into new CSV file\n",
    "with open(\"import_data/publishers_sorted.csv\", \"w\") as f:\n",
    "  fileWriter = csv.writer(f, delimiter=',')\n",
    "  for row in sortedlist:\n",
    "      fileWriter.writerow(row)\n",
    "\n"
   ]
  },
  {
   "cell_type": "code",
   "execution_count": 42,
   "metadata": {
    "collapsed": true
   },
   "outputs": [],
   "source": [
    "###\n",
    "### DEDUPLICATE DATA (check manually at the end)\n",
    "###\n",
    "\n",
    "reader=csv.reader(open('import_data/publishers_sorted.csv', 'r'), delimiter=',')\n",
    "writer=csv.writer(open('import_data/publishers_sorted_distinct.csv', 'w'), delimiter=',')\n",
    "\n",
    "entries = set()\n",
    "\n",
    "for row in reader:\n",
    "   key = (row[0], row[1]) # instead of just the last name\n",
    "\n",
    "   if key not in entries:\n",
    "      writer.writerow(row)\n",
    "      entries.add(key)"
   ]
  },
  {
   "cell_type": "code",
   "execution_count": 53,
   "metadata": {},
   "outputs": [
    {
     "name": "stdout",
     "output_type": "stream",
     "text": [
      "hello\n",
      "hello\n",
      "hello\n"
     ]
    }
   ],
   "source": [
    "###\n",
    "### READ THE CSV\n",
    "###\n",
    "\n",
    "import csv\n",
    "\n",
    "f = open('import_data/publishers_sorted_distinct_manuallychecked.csv')\n",
    "csv_f = csv.reader(f)   \n",
    "data = []\n",
    "\n",
    "for row in csv_f: \n",
    "   data.append(row)\n",
    "f.close()\n",
    "\n",
    "## TEST COSA C'È NELLE LINEE SPECIFICATE\n",
    "## print(data[1:3])\n",
    "\n",
    "for row in data[1:]:\n",
    "    \n",
    "    if (row[0] == ''):\n",
    "        print('hello')\n"
   ]
  },
  {
   "cell_type": "code",
   "execution_count": 46,
   "metadata": {},
   "outputs": [
    {
     "ename": "TypeError",
     "evalue": "sequence item 0: expected str instance, NoneType found",
     "output_type": "error",
     "traceback": [
      "\u001b[0;31m---------------------------------------------------------------------------\u001b[0m",
      "\u001b[0;31mTypeError\u001b[0m                                 Traceback (most recent call last)",
      "\u001b[0;32m<ipython-input-46-0474595a5a0e>\u001b[0m in \u001b[0;36m<module>\u001b[0;34m()\u001b[0m\n\u001b[1;32m     48\u001b[0m \u001b[0;34m\u001b[0m\u001b[0m\n\u001b[1;32m     49\u001b[0m \u001b[0;31m## WRITE ITEMS TO FILE, LOOP ON THE FUNCTION convert_row\u001b[0m\u001b[0;34m\u001b[0m\u001b[0;34m\u001b[0m\u001b[0m\n\u001b[0;32m---> 50\u001b[0;31m \u001b[0mo\u001b[0m\u001b[0;34m.\u001b[0m\u001b[0mwrite\u001b[0m\u001b[0;34m(\u001b[0m\u001b[0;34m'\\n'\u001b[0m\u001b[0;34m.\u001b[0m\u001b[0mjoin\u001b[0m\u001b[0;34m(\u001b[0m\u001b[0;34m[\u001b[0m\u001b[0mconvert_row\u001b[0m\u001b[0;34m(\u001b[0m\u001b[0mrow\u001b[0m\u001b[0;34m)\u001b[0m \u001b[0;32mfor\u001b[0m \u001b[0mrow\u001b[0m \u001b[0;32min\u001b[0m \u001b[0mdata\u001b[0m\u001b[0;34m[\u001b[0m\u001b[0;36m1\u001b[0m\u001b[0;34m:\u001b[0m\u001b[0;34m]\u001b[0m\u001b[0;34m]\u001b[0m\u001b[0;34m)\u001b[0m\u001b[0;34m)\u001b[0m\u001b[0;34m\u001b[0m\u001b[0m\n\u001b[0m\u001b[1;32m     51\u001b[0m \u001b[0;34m\u001b[0m\u001b[0m\n\u001b[1;32m     52\u001b[0m \u001b[0;31m## WRITE END OF THE XML FILE\u001b[0m\u001b[0;34m\u001b[0m\u001b[0;34m\u001b[0m\u001b[0m\n",
      "\u001b[0;31mTypeError\u001b[0m: sequence item 0: expected str instance, NoneType found"
     ]
    }
   ],
   "source": [
    "###\n",
    "### READ THE CSV\n",
    "###\n",
    "\n",
    "import csv\n",
    "\n",
    "f = open('import_data/publishers_sorted_distinct_manuallychecked.csv')\n",
    "o = open('xml/publishers.xml', 'w')\n",
    "\n",
    "csv_f = csv.reader(f)   \n",
    "data = []\n",
    "\n",
    "for row in csv_f: \n",
    "   data.append(row)\n",
    "f.close()\n",
    "\n",
    "## test cosa c'è nelle linee specificate\n",
    "## print(data[1:3])\n",
    "\n",
    "\n",
    "\n",
    "###\n",
    "### TRANSFORM INTO XML FOR BULK IMPORT INTO KNORA\n",
    "###\n",
    "\n",
    "\n",
    "## FIND ANOTHER WAY, CHECK https://stackoverflow.com/questions/3605680/creating-a-simple-xml-file-using-python\n",
    "\n",
    "## FUNCTION THAT CREATES ITEM FROM CSV\n",
    "def convert_row(row):\n",
    "    ## ------->>>>>>> create id with first or first and last word of the publisher's name\n",
    "    word_list = row[1].replace(\"'\", ' ') ## replace accent with space\n",
    "    word_list = word_list.replace(\",\", '').split()  ## replace comma with nothing and split words\n",
    "    words = '_'.join(word_list)       \n",
    "    ## ------->>>>>>> create item from csv\n",
    "    return\n",
    "    \"\"\"<p0112-roud-oeuvres:Publisher id=\"edi_%s\">\n",
    "            <knoraXmlImport:label>edi_%s</knoraXmlImport:label>\"\"\"\n",
    "    if (row[0] == ''):\n",
    "        \"\"\"<p0112-roud-oeuvres:publisherHasLocation knoraType=\"richtext_value\">%s</p0112-roud-oeuvres:publisherHasLocation>\"\"\"\n",
    "    else:\n",
    "        ''\n",
    "    \"\"\"<p0112-roud-oeuvres:publisherHasName knoraType=\"richtext_value\">%s</p0112-roud-oeuvres:publisherHasName>\n",
    "        </p0112-roud-oeuvres:Publisher>\n",
    "        \"\"\" % (words, row[1], row[0], row[1])\n",
    "\n",
    "\n",
    "## WRITE DECLARATIONS AND BEGINNING OF THE XML FILE -adding more line breaks for readibility '+'\\n'+' ???-\n",
    "o.write('<?xml version=\"1.0\" encoding=\"UTF-8\"?>'+'\\n'+'<knoraXmlImport:resources xmlns:xsi=\"http://www.w3.org/2001/XMLSchema-instance\" xsi:schemaLocation=\"http://api.knora.org/ontology/knoraXmlImport/v1# ../p0112-roud-oeuvres-xml-schemas/p0112-roud-oeuvres.xsd\" xmlns=\"http://api.knora.org/ontology/0112/roud-oeuvres/xml-import/v1#\" xmlns:knoraXmlImport=\"http://api.knora.org/ontology/knoraXmlImport/v1#\" xmlns:p0112-roud-oeuvres=\"http://api.knora.org/ontology/0112/roud-oeuvres/xml-import/v1#\">'+'\\n')\n",
    "\n",
    "## WRITE ITEMS TO FILE, LOOP ON THE FUNCTION convert_row\n",
    "o.write('\\n'.join([convert_row(row) for row in data[1:]]))\n",
    "\n",
    "## WRITE END OF THE XML FILE\n",
    "with o:  ## this is to append the text, if just write o.write does not work here (why??)\n",
    "    o.write('\\n'+'</knoraXmlImport:resources>')\n",
    "\n",
    "o.close\n",
    "\n",
    "\n",
    "## TO HAVE SHORTER ID (but rules are more complicated and anyway there will be exceptions, so ...)\n",
    "##    word_list = row[1].replace(\"'\", ' ') ## replace accent with space\n",
    "##    word_list = word_list.replace(\",\", '').split()  ## replace comma with nothing and split words\n",
    "##    if (word_list[0] == \"La\") or (word_list[0] == \"L\") or (word_list[0] == \"Les\") or (word_list[0] == \"Le\"): ## if the first word is ...\n",
    "##        if (word_list[1] == word_list[-1]): ## if the second and the last words are equal\n",
    "##            first_last_word = word_list[1]  ## take the second\n",
    "##        else:\n",
    "##            first_last_word = word_list[1]+'_'+word_list[-1]  ## otherwise take the second and the last\n",
    "##    else:    ## if the first word is NOT ...\n",
    "##        if (word_list[0] == word_list[-1]): ## if the first and the last words are equal\n",
    "##            first_last_word = word_list[0]  ## take the first\n",
    "##        else:\n",
    "##            first_last_word = word_list[0]+'_'+word_list[-1]   ## otherwise take the first and the last "
   ]
  },
  {
   "cell_type": "code",
   "execution_count": null,
   "metadata": {
    "collapsed": true
   },
   "outputs": [],
   "source": []
  },
  {
   "cell_type": "code",
   "execution_count": null,
   "metadata": {
    "collapsed": true
   },
   "outputs": [],
   "source": []
  }
 ],
 "metadata": {
  "kernelspec": {
   "display_name": "Python 3",
   "language": "python",
   "name": "python3"
  },
  "language_info": {
   "codemirror_mode": {
    "name": "ipython",
    "version": 3
   },
   "file_extension": ".py",
   "mimetype": "text/x-python",
   "name": "python",
   "nbconvert_exporter": "python",
   "pygments_lexer": "ipython3",
   "version": "3.6.3"
  }
 },
 "nbformat": 4,
 "nbformat_minor": 2
}
